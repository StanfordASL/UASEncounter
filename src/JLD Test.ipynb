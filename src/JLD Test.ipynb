{
 "metadata": {
  "language": "Julia",
  "name": "",
  "signature": "sha256:e1ef7d95c57d8acf3db4630e3f7592935cd31575531c2a38f089e53cec0dc361"
 },
 "nbformat": 3,
 "nbformat_minor": 0,
 "worksheets": [
  {
   "cells": [
    {
     "cell_type": "code",
     "collapsed": false,
     "input": [
      "using EncounterModel\n",
      "import HDF5, JLD\n",
      "import ProtoBuf"
     ],
     "language": "python",
     "metadata": {},
     "outputs": [],
     "prompt_number": 23
    },
    {
     "cell_type": "code",
     "collapsed": false,
     "input": [
      "states = [EncounterState() for i in 1:500]\n",
      "states_any = {EncounterState() for i in 1:500}\n",
      "data_upper_bound = zeros(8,500)"
     ],
     "language": "python",
     "metadata": {},
     "outputs": [
      {
       "metadata": {},
       "output_type": "pyout",
       "prompt_number": 15,
       "text": [
        "8x500 Array{Float64,2}:\n",
        " 0.0  0.0  0.0  0.0  0.0  0.0  0.0  0.0  \u2026  0.0  0.0  0.0  0.0  0.0  0.0  0.0\n",
        " 0.0  0.0  0.0  0.0  0.0  0.0  0.0  0.0     0.0  0.0  0.0  0.0  0.0  0.0  0.0\n",
        " 0.0  0.0  0.0  0.0  0.0  0.0  0.0  0.0     0.0  0.0  0.0  0.0  0.0  0.0  0.0\n",
        " 0.0  0.0  0.0  0.0  0.0  0.0  0.0  0.0     0.0  0.0  0.0  0.0  0.0  0.0  0.0\n",
        " 0.0  0.0  0.0  0.0  0.0  0.0  0.0  0.0     0.0  0.0  0.0  0.0  0.0  0.0  0.0\n",
        " 0.0  0.0  0.0  0.0  0.0  0.0  0.0  0.0  \u2026  0.0  0.0  0.0  0.0  0.0  0.0  0.0\n",
        " 0.0  0.0  0.0  0.0  0.0  0.0  0.0  0.0     0.0  0.0  0.0  0.0  0.0  0.0  0.0\n",
        " 0.0  0.0  0.0  0.0  0.0  0.0  0.0  0.0     0.0  0.0  0.0  0.0  0.0  0.0  0.0"
       ]
      }
     ],
     "prompt_number": 15
    },
    {
     "cell_type": "code",
     "collapsed": false,
     "input": [
      "JLD.@save \"/tmp/states.jld\" states\n",
      "JLD.@save \"/tmp/states_any.jld\" states_any\n",
      "JLD.@save \"/tmp/data_upper_bound.jld\" data_upper_bound"
     ],
     "language": "python",
     "metadata": {},
     "outputs": [],
     "prompt_number": 16
    },
    {
     "cell_type": "code",
     "collapsed": false,
     "input": [
      "run(`du -h /tmp/states.jld`)\n",
      "run(`du -h /tmp/states_any.jld`)\n",
      "run(`du -h /tmp/data_upper_bound.jld`)"
     ],
     "language": "python",
     "metadata": {},
     "outputs": [
      {
       "output_type": "stream",
       "stream": "stdout",
       "text": [
        "616K\t../data/states.jld\n"
       ]
      },
      {
       "output_type": "stream",
       "stream": "stdout",
       "text": [
        "616K\t../data/states_any.jld\n",
        "36K\t../data/data_upper_bound.jld\n"
       ]
      }
     ],
     "prompt_number": 19
    },
    {
     "cell_type": "code",
     "collapsed": false,
     "input": [
      "# HDF5.h5write(\"/tmp/states.h5\", \"mygroup/states_any\", states_any)"
     ],
     "language": "python",
     "metadata": {},
     "outputs": [
      {
       "ename": "LoadError",
       "evalue": "`write` has no method matching write(::HDF5File, ::ASCIIString, ::Array{Any,1})\nwhile loading In[22], in expression starting on line 1",
       "output_type": "pyerr",
       "traceback": [
        "`write` has no method matching write(::HDF5File, ::ASCIIString, ::Array{Any,1})\nwhile loading In[22], in expression starting on line 1",
        "",
        " in h5write at /home/zach/.julia/HDF5/src/plain.jl:581"
       ]
      }
     ],
     "prompt_number": 22
    },
    {
     "cell_type": "code",
     "collapsed": false,
     "input": [
      "f = open(\"/tmp/states.pb\",\"a\")\n",
      "for s in states\n",
      "    ProtoBuf.writeproto(f, s)\n",
      "end\n",
      "close(f)"
     ],
     "language": "python",
     "metadata": {},
     "outputs": [],
     "prompt_number": 37
    },
    {
     "cell_type": "code",
     "collapsed": false,
     "input": [
      "run(`du -h /tmp/states.pb`)"
     ],
     "language": "python",
     "metadata": {},
     "outputs": [
      {
       "output_type": "stream",
       "stream": "stdout",
       "text": [
        "16K\t/tmp/states.pb\n"
       ]
      }
     ],
     "prompt_number": 38
    },
    {
     "cell_type": "code",
     "collapsed": false,
     "input": [],
     "language": "python",
     "metadata": {},
     "outputs": []
    }
   ],
   "metadata": {}
  }
 ]
}